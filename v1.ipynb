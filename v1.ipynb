{
 "cells": [
  {
   "cell_type": "markdown",
   "metadata": {},
   "source": [
    "# Practice: download images from web\n",
    "\n",
    "**Download amazing pictures from [national geographic](http://www.nationalgeographic.com.cn/animals/)**"
   ]
  },
  {
   "cell_type": "code",
   "execution_count": 6,
   "metadata": {},
   "outputs": [],
   "source": [
    "from bs4 import BeautifulSoup\n",
    "import requests\n",
    "\n",
    "URL = \"http://www.columbia.edu/help/slideshow/archive/index.html\""
   ]
  },
  {
   "cell_type": "markdown",
   "metadata": {},
   "source": [
    "## find list of image holder"
   ]
  },
  {
   "cell_type": "code",
   "execution_count": 7,
   "metadata": {},
   "outputs": [],
   "source": [
    "html = requests.get(URL).text\n",
    "soup = BeautifulSoup(html, 'lxml')\n",
    "img_ul = soup.find_all('div', {\"class\": \"thumb\"})"
   ]
  },
  {
   "cell_type": "markdown",
   "metadata": {},
   "source": [
    "**Create a folder for these pictures**"
   ]
  },
  {
   "cell_type": "code",
   "execution_count": 8,
   "metadata": {},
   "outputs": [
    {
     "ename": "TypeError",
     "evalue": "makedirs() got an unexpected keyword argument 'exist_ok'",
     "output_type": "error",
     "traceback": [
      "\u001b[0;31m---------------------------------------------------------------------------\u001b[0m",
      "\u001b[0;31mTypeError\u001b[0m                                 Traceback (most recent call last)",
      "\u001b[0;32m<ipython-input-8-dbbfc5d33e38>\u001b[0m in \u001b[0;36m<module>\u001b[0;34m()\u001b[0m\n\u001b[1;32m      1\u001b[0m \u001b[0;32mimport\u001b[0m \u001b[0mos\u001b[0m\u001b[0;34m\u001b[0m\u001b[0m\n\u001b[1;32m      2\u001b[0m \u001b[0;34m\u001b[0m\u001b[0m\n\u001b[0;32m----> 3\u001b[0;31m \u001b[0mos\u001b[0m\u001b[0;34m.\u001b[0m\u001b[0mmakedirs\u001b[0m\u001b[0;34m(\u001b[0m\u001b[0;34m'./img/'\u001b[0m\u001b[0;34m,\u001b[0m \u001b[0mexist_ok\u001b[0m\u001b[0;34m=\u001b[0m\u001b[0mTrue\u001b[0m\u001b[0;34m)\u001b[0m\u001b[0;34m\u001b[0m\u001b[0m\n\u001b[0m",
      "\u001b[0;31mTypeError\u001b[0m: makedirs() got an unexpected keyword argument 'exist_ok'"
     ]
    }
   ],
   "source": [
    "import os\n",
    "\n",
    "os.makedirs('./img/', exist_ok=True)"
   ]
  },
  {
   "cell_type": "markdown",
   "metadata": {},
   "source": [
    "## download\n",
    "\n",
    "**Find all picture urls and download them.**"
   ]
  },
  {
   "cell_type": "code",
   "execution_count": 6,
   "metadata": {},
   "outputs": [
    {
     "name": "stdout",
     "output_type": "stream",
     "text": [
      "Saved cu_home_campus_1913.jpg\n",
      "Saved cu_home_chapel_blossoms.jpg\n",
      "Saved cu_home_alma_mater_spring.jpg\n",
      "Saved cu_home_alma_mater.jpg\n",
      "Saved cu_home_mudd_aerial.jpg\n",
      "Saved cu_home_mudd_rooftops.jpg\n",
      "Saved cu_home_balloons_low.jpg\n",
      "Saved cu_home_columbia_seal.jpg\n",
      "Saved cu_home_butler_dusk.jpg\n",
      "Saved cu_home_football_field_1920s.jpg\n",
      "Saved cu_home_winter_trees.jpg\n",
      "Saved cu_home_low_night.jpg\n",
      "Saved cu_home_campus_gate.jpg\n",
      "Saved cu_home_fall.jpg\n",
      "Saved cu_home_almamater.jpg\n",
      "Saved cu_home_philosophy_night.jpg\n",
      "Saved cu_home_st_paul_inlay.jpg\n",
      "Saved cu_home_butler_trees.jpg\n",
      "Saved cu_home_butler_night.jpg\n",
      "Saved cu_home_college_walk.jpg\n",
      "Saved cu_home_students_plaza.jpg\n",
      "Saved cu_home_revson_sculpture.jpg\n",
      "Saved cu_home_116th_broadway.jpg\n",
      "Saved cu_home_alma_low_3.jpg\n",
      "Saved cu_home_passing_students.jpg\n"
     ]
    }
   ],
   "source": [
    "base_url='http://www.columbia.edu/'\n",
    "for ul in img_ul:\n",
    "    imgs = ul.find_all('img')\n",
    "    for img in imgs:\n",
    "        url = base_url+img['src'].strip('../')\n",
    "        r = requests.get(url, stream=True)\n",
    "        image_name = url.split('/')[-1]\n",
    "        with open('./img/%s' % image_name, 'wb') as f:\n",
    "            for chunk in r.iter_content(chunk_size=128):\n",
    "                f.write(chunk)\n",
    "        print('Saved %s' % image_name)\n",
    "\n"
   ]
  },
  {
   "cell_type": "code",
   "execution_count": 5,
   "metadata": {},
   "outputs": [
    {
     "name": "stdout",
     "output_type": "stream",
     "text": [
      "Saved cu_home_baseball_2.jpg\n",
      "Saved cu_home_baseball_2.jpg\n",
      "Saved cu_home_baseball_2.jpg\n",
      "Saved cu_home_painting.jpg\n",
      "Saved cu_home_painting.jpg\n",
      "Saved cu_home_painting.jpg\n",
      "Saved cu_home_student_in_library_2.jpg\n",
      "Saved cu_home_student_in_library_2.jpg\n",
      "Saved cu_home_student_in_library_2.jpg\n",
      "Saved cu_home_student_prof.jpg\n",
      "Saved cu_home_student_prof.jpg\n",
      "Saved cu_home_student_prof.jpg\n",
      "Saved cu_home_prof_student.jpg\n",
      "Saved cu_home_prof_student.jpg\n",
      "Saved cu_home_prof_student.jpg\n",
      "Saved cu_home_winter_trees.jpg\n",
      "Saved cu_home_winter_trees.jpg\n",
      "Saved cu_home_winter_trees.jpg\n",
      "Saved cu_home_college_walk_winter.jpg\n",
      "Saved cu_home_college_walk_winter.jpg\n",
      "Saved cu_home_college_walk_winter.jpg\n",
      "Saved cu_home_robeson_greene_drew.jpg\n",
      "Saved cu_home_robeson_greene_drew.jpg\n",
      "Saved cu_home_robeson_greene_drew.jpg\n",
      "Saved cu_home_daly_meredith_chisholm.jpg\n",
      "Saved cu_home_daly_meredith_chisholm.jpg\n",
      "Saved cu_home_daly_meredith_chisholm.jpg\n",
      "Saved cu_home_weston_motley_hughes.jpg\n",
      "Saved cu_home_weston_motley_hughes.jpg\n",
      "Saved cu_home_weston_motley_hughes.jpg\n",
      "Saved cu_home_womens_archery.jpg\n",
      "Saved cu_home_womens_archery.jpg\n",
      "Saved cu_home_womens_archery.jpg\n",
      "Saved cu_home_wrestling_2.jpg\n",
      "Saved cu_home_wrestling_2.jpg\n",
      "Saved cu_home_wrestling_2.jpg\n",
      "Saved cu_home_fencing_3.jpg\n",
      "Saved cu_home_fencing_3.jpg\n",
      "Saved cu_home_fencing_3.jpg\n",
      "Saved cu_home_feast_of_senses.jpg\n",
      "Saved cu_home_feast_of_senses.jpg\n",
      "Saved cu_home_feast_of_senses.jpg\n",
      "Saved cu_home_crystallography.jpg\n",
      "Saved cu_home_crystallography.jpg\n",
      "Saved cu_home_crystallography.jpg\n",
      "Saved cu_home_low_night.jpg\n",
      "Saved cu_home_low_night.jpg\n",
      "Saved cu_home_low_night.jpg\n",
      "Saved cu_home_times_square.jpg\n",
      "Saved cu_home_times_square.jpg\n",
      "Saved cu_home_times_square.jpg\n",
      "Saved cu_home_campus_gate.jpg\n",
      "Saved cu_home_campus_gate.jpg\n",
      "Saved cu_home_campus_gate.jpg\n",
      "Saved cu_home_summer_youth.jpg\n",
      "Saved cu_home_summer_youth.jpg\n",
      "Saved cu_home_summer_youth.jpg\n",
      "Saved cu_home_science_day.jpg\n",
      "Saved cu_home_science_day.jpg\n",
      "Saved cu_home_science_day.jpg\n",
      "Saved cu_home_yule_quartet.jpg\n",
      "Saved cu_home_yule_quartet.jpg\n",
      "Saved cu_home_yule_quartet.jpg\n",
      "Saved cu_home_oconnor.jpg\n",
      "Saved cu_home_oconnor.jpg\n",
      "Saved cu_home_oconnor.jpg\n",
      "Saved cu_home_gwb_sunset.jpg\n",
      "Saved cu_home_gwb_sunset.jpg\n",
      "Saved cu_home_gwb_sunset.jpg\n",
      "Saved cu_home_ferry_liberty.jpg\n",
      "Saved cu_home_ferry_liberty.jpg\n",
      "Saved cu_home_ferry_liberty.jpg\n",
      "Saved cu_home_notes.jpg\n",
      "Saved cu_home_notes.jpg\n",
      "Saved cu_home_notes.jpg\n"
     ]
    }
   ],
   "source": [
    "# base_url='http://www.columbia.edu/help/slideshow/archive'\n",
    "\n",
    "# for ul in img_ul:\n",
    "#     imgs = ul.find_all('img')\n",
    "#     for img in imgs:\n",
    "#         for i in range(2,5):\n",
    "#             url = base_url+'/page'+str(i)+'/'+img['src'].strip('../')\n",
    "#             r = requests.get(url, stream=True)\n",
    "#             image_name = url.split('/')[-1]\n",
    "#             with open('./img/%s' % image_name, 'wb') as f:\n",
    "#                 for chunk in r.iter_content(chunk_size=128):\n",
    "#                     f.write(chunk)\n",
    "#             print('Saved %s' % image_name)"
   ]
  },
  {
   "cell_type": "markdown",
   "metadata": {},
   "source": [
    "![image](/img/20171214020322682.jpg)"
   ]
  },
  {
   "cell_type": "code",
   "execution_count": null,
   "metadata": {},
   "outputs": [],
   "source": []
  }
 ],
 "metadata": {
  "kernelspec": {
   "display_name": "Python 2",
   "language": "python",
   "name": "python2"
  },
  "language_info": {
   "codemirror_mode": {
    "name": "ipython",
    "version": 2
   },
   "file_extension": ".py",
   "mimetype": "text/x-python",
   "name": "python",
   "nbconvert_exporter": "python",
   "pygments_lexer": "ipython2",
   "version": "2.7.15"
  }
 },
 "nbformat": 4,
 "nbformat_minor": 1
}
